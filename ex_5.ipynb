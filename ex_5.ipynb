{
 "cells": [
  {
   "cell_type": "code",
   "execution_count": null,
   "metadata": {
    "execution": {
     "iopub.execute_input": "2025-07-10T16:57:55.144475Z",
     "iopub.status.busy": "2025-07-10T16:57:55.143785Z",
     "iopub.status.idle": "2025-07-10T16:57:55.172612Z",
     "shell.execute_reply": "2025-07-10T16:57:55.171399Z",
     "shell.execute_reply.started": "2025-07-10T16:57:55.144443Z"
    },
    "id": "QFozdUigdt2A",
    "trusted": true
   },
   "outputs": [],
   "source": [
    "import numpy as np\n",
    "import pandas as pd\n",
    "from pathlib import Path\n",
    "import warnings\n",
    "from ex_01_read_data import get_welding_data\n",
    "from ex_03_feature_extraction import extract_features\n",
    "\n",
    "from sklearn.model_selection import train_test_split, GridSearchCV\n",
    "from sklearn.preprocessing import StandardScaler\n",
    "from sklearn.pipeline import Pipeline\n",
    "from sklearn.metrics import accuracy_score, precision_score, recall_score, f1_score, roc_auc_score\n",
    "\n",
    "from sklearn.linear_model import LogisticRegression\n",
    "from sklearn.svm import SVC\n",
    "from sklearn.ensemble import RandomForestClassifier\n",
    "from sklearn.neighbors import KNeighborsClassifier\n",
    "\n",
    "from imblearn.over_sampling import SMOTE\n",
    "from imblearn.pipeline import Pipeline \n",
    "\n",
    "\n",
    "DATA_PATH = Path('/kaggle/input/uebdataset/data.csv')\n",
    "RESULTS_PATH = Path('../results/')\n",
    "RANDOM_SEEDS = [42, 1234, 123]\n",
    "TEST_SIZE = 0.2\n",
    "\n"
   ]
  },
  {
   "cell_type": "code",
   "execution_count": null,
   "metadata": {
    "colab": {
     "base_uri": "https://localhost:8080/"
    },
    "execution": {
     "iopub.execute_input": "2025-07-10T17:06:52.022792Z",
     "iopub.status.busy": "2025-07-10T17:06:52.022405Z",
     "iopub.status.idle": "2025-07-10T17:06:56.494173Z",
     "shell.execute_reply": "2025-07-10T17:06:56.493475Z",
     "shell.execute_reply.started": "2025-07-10T17:06:52.022771Z"
    },
    "id": "FFtsGzS0dt2G",
    "outputId": "b15abfc8-4a51-409f-99e6-4a2bc3b2c1d6",
    "trusted": true
   },
   "outputs": [
    {
     "name": "stdout",
     "output_type": "stream",
     "text": [
      "Loading and preparing engineered features...\n",
      "Loading and preparing raw data...\n",
      "Engineered Features - Train shape: (7200, 20), Test shape: (1800, 20)\n",
      "Raw Data (Flattened) - Train shape: (5600, 400), Test shape: (1400, 400)\n"
     ]
    }
   ],
   "source": [
    "\n",
    "print(\"Loading and preparing engineered features...\")\n",
    "data_full, labels_full, _ = get_welding_data(DATA_PATH)\n",
    "features_df = extract_features(data_full, labels_full)\n",
    "X_eng = features_df.drop('label', axis=1)\n",
    "y_eng = features_df['label']\n",
    "\n",
    "X_train_eng, X_test_eng, y_train_eng, y_test_eng = train_test_split(\n",
    "    X_eng, y_eng, test_size=TEST_SIZE, random_state=RANDOM_SEEDS[0]\n",
    ")\n",
    "\n",
    "print(\"Loading and preparing raw data...\")\n",
    "data_raw, labels_raw, _ = get_welding_data(DATA_PATH)\n",
    "y_raw = labels_raw              \n",
    "#Flattening data\n",
    "n_samples, n_timesteps, n_features = data_raw.shape\n",
    "X_raw_flat = data_raw.reshape((n_samples, n_timesteps * n_features))\n",
    "\n",
    "X_train_raw, X_test_raw, y_train_raw, y_test_raw = train_test_split(\n",
    "    X_raw_flat, y_raw, test_size=TEST_SIZE, random_state=RANDOM_SEEDS[0]\n",
    ")\n",
    "\n",
    "print(f\"Engineered Features - Train shape: {X_train_eng.shape}, Test shape: {X_test_eng.shape}\")\n",
    "print(f\"Raw Data (Flattened) - Train shape: {X_train_raw.shape}, Test shape: {X_test_raw.shape}\")"
   ]
  },
  {
   "cell_type": "code",
   "execution_count": null,
   "metadata": {
    "execution": {
     "iopub.execute_input": "2025-07-10T17:06:56.495580Z",
     "iopub.status.busy": "2025-07-10T17:06:56.495034Z",
     "iopub.status.idle": "2025-07-10T17:06:56.501232Z",
     "shell.execute_reply": "2025-07-10T17:06:56.500590Z",
     "shell.execute_reply.started": "2025-07-10T17:06:56.495549Z"
    },
    "id": "U0D8XtiVdt2H",
    "trusted": true
   },
   "outputs": [],
   "source": [
    "classifiers = {\n",
    "    'LogisticRegression': LogisticRegression(solver='saga', max_iter=1000,random_state=42),\n",
    "    'SVC': SVC(probability=True,random_state=42),\n",
    "    'RandomForest': RandomForestClassifier(random_state=42),\n",
    "    'KNeighborsClassifier': KNeighborsClassifier() \n",
    "}\n",
    "\n",
    "\n",
    "#hyperparameter grids\n",
    "param_grids = {\n",
    "    'LogisticRegression': {\n",
    "        'classifier__C': [0.1, 1, 10.0],\n",
    "        'classifier__penalty': ['l1', 'l2']\n",
    "    },\n",
    "    'SVC': {\n",
    "        'classifier__C': [0.1, 1, 10],\n",
    "        'classifier__gamma': ['scale', 'auto'],\n",
    "        'classifier__kernel': ['rbf']\n",
    "    },\n",
    "    'RandomForest': {\n",
    "        'classifier__n_estimators': [100, 200],\n",
    "        'classifier__max_depth': [10, 20, 30],\n",
    "        'classifier__min_samples_leaf': [1, 2, 3]\n",
    "    },\n",
    "        'KNeighborsClassifier': {\n",
    "        'classifier__n_neighbors': [3, 5, 7],\n",
    "        'classifier__weights': ['uniform', 'distance'],\n",
    "        'classifier__metric': ['euclidean', 'manhattan']\n",
    "    }\n",
    "    \n",
    "    \n",
    "}"
   ]
  },
  {
   "cell_type": "code",
   "execution_count": null,
   "metadata": {
    "execution": {
     "iopub.execute_input": "2025-07-10T17:06:56.503305Z",
     "iopub.status.busy": "2025-07-10T17:06:56.502714Z",
     "iopub.status.idle": "2025-07-10T18:23:15.945146Z",
     "shell.execute_reply": "2025-07-10T18:23:15.944516Z",
     "shell.execute_reply.started": "2025-07-10T17:06:56.503283Z"
    },
    "id": "NqI6oFkIdt2J",
    "trusted": true
   },
   "outputs": [
    {
     "name": "stdout",
     "output_type": "stream",
     "text": [
      "--- Running for LogisticRegression on engineered_features ---\n",
      "Best parameters : {'classifier__C': 10.0, 'classifier__penalty': 'l2'}\n",
      "--- Running for SVC on engineered_features ---\n",
      "Best parameters : {'classifier__C': 10, 'classifier__gamma': 'scale', 'classifier__kernel': 'rbf'}\n",
      "--- Running for RandomForest on engineered_features ---\n",
      "Best parameters : {'classifier__max_depth': 10, 'classifier__min_samples_leaf': 3, 'classifier__n_estimators': 200}\n",
      "--- Running for KNeighborsClassifier on engineered_features ---\n",
      "Best parameters : {'classifier__metric': 'manhattan', 'classifier__n_neighbors': 7, 'classifier__weights': 'distance'}\n",
      "--- Running for LogisticRegression on raw_data ---\n",
      "Best parameters : {'classifier__C': 0.1, 'classifier__penalty': 'l1'}\n",
      "--- Running for SVC on raw_data ---\n",
      "Best parameters : {'classifier__C': 0.1, 'classifier__gamma': 'scale', 'classifier__kernel': 'rbf'}\n",
      "--- Running for RandomForest on raw_data ---\n",
      "Best parameters : {'classifier__max_depth': 20, 'classifier__min_samples_leaf': 3, 'classifier__n_estimators': 100}\n",
      "--- Running for KNeighborsClassifier on raw_data ---\n",
      "Best parameters : {'classifier__metric': 'manhattan', 'classifier__n_neighbors': 7, 'classifier__weights': 'distance'}\n"
     ]
    }
   ],
   "source": [
    "\n",
    "def run_evaluation_pipeline(X_train, y_train, X_test, y_test, dataset_name: str):\n",
    "    \"\"\"\n",
    "    Runs the full evaluation pipeline for all classifiers\n",
    "    \"\"\"\n",
    "    all_results = []\n",
    "\n",
    "    for name, classifier in classifiers.items():\n",
    "        print(f\"--- Running for {name} on {dataset_name} ---\")\n",
    "\n",
    "        #pipeline with SMOTE,Scaler and Classifier\n",
    "        pipeline = Pipeline([\n",
    "            ('smote', SMOTE(random_state=42)),\n",
    "            ('scaler', StandardScaler()),\n",
    "            ('classifier', classifier)\n",
    "        ])\n",
    "\n",
    "        grid_search = GridSearchCV(\n",
    "            pipeline,\n",
    "            param_grid=param_grids[name],\n",
    "            scoring='f1'\n",
    "        )\n",
    "\n",
    "        #best hyperparameters\n",
    "        grid_search.fit(X_train, y_train)\n",
    "        best_params = grid_search.best_params_\n",
    "        print(f\"Best parameters : {best_params}\")\n",
    "\n",
    "        #Train with best params over multiple seeds and evaluate on the test set\n",
    "        seed_metrics = []\n",
    "        for seed in RANDOM_SEEDS:\n",
    "            # Update random states in the best model pipeline\n",
    "            final_model = grid_search.best_estimator_\n",
    "            params_to_set = {'smote__random_state': seed}\n",
    "            if 'random_state' in final_model.named_steps['classifier'].get_params():\n",
    "                params_to_set['classifier__random_state'] = seed\n",
    "                final_model.set_params(smote__random_state=seed, classifier__random_state=seed)\n",
    "            else:\n",
    "                final_model.set_params(smote__random_state=seed)\n",
    "            final_model.fit(X_train, y_train)\n",
    "\n",
    "            # Evaluate test set\n",
    "            y_pred = final_model.predict(X_test)\n",
    "            y_proba = final_model.predict_proba(X_test)[:, 1] \n",
    "\n",
    "            metrics = {\n",
    "                'accuracy': accuracy_score(y_test, y_pred),\n",
    "                'precision': precision_score(y_test, y_pred),\n",
    "                'recall': recall_score(y_test, y_pred),\n",
    "                'f1_score': f1_score(y_test, y_pred),\n",
    "                'roc_auc': roc_auc_score(y_test, y_proba) \n",
    "            }\n",
    "            seed_metrics.append(metrics)\n",
    "\n",
    "        #mean and std dev of metrics\n",
    "        metrics_df = pd.DataFrame(seed_metrics)\n",
    "        mean_metrics = metrics_df.mean()\n",
    "        std_metrics = metrics_df.std()\n",
    "\n",
    "        result_row = {'model': name}\n",
    "        for metric in mean_metrics.index:\n",
    "            result_row[f'{metric}_mean'] = mean_metrics[metric]\n",
    "            result_row[f'{metric}_std'] = std_metrics[metric]\n",
    "        all_results.append(result_row)\n",
    "\n",
    "    results_df = pd.DataFrame(all_results)\n",
    "    output_path = RESULTS_PATH / f\"ex_05_results_{dataset_name}.csv\"\n",
    "    results_df.to_csv(output_path)\n",
    "    return results_df\n",
    "\n",
    "#Run for both datasets\n",
    "results_eng = run_evaluation_pipeline(X_train_eng, y_train_eng, X_test_eng, y_test_eng, \"engineered_features\")\n",
    "results_raw = run_evaluation_pipeline(X_train_raw, y_train_raw, X_test_raw, y_test_raw, \"raw_data\")"
   ]
  },
  {
   "cell_type": "code",
   "execution_count": null,
   "metadata": {
    "execution": {
     "iopub.execute_input": "2025-07-10T19:02:19.280918Z",
     "iopub.status.busy": "2025-07-10T19:02:19.280152Z",
     "iopub.status.idle": "2025-07-10T19:02:19.304442Z",
     "shell.execute_reply": "2025-07-10T19:02:19.303620Z",
     "shell.execute_reply.started": "2025-07-10T19:02:19.280893Z"
    },
    "id": "-5IgPzixdt2K",
    "trusted": true
   },
   "outputs": [
    {
     "name": "stdout",
     "output_type": "stream",
     "text": [
      "--- Results for Engineered Features ---\n"
     ]
    },
    {
     "data": {
      "text/html": [
       "<div>\n",
       "<style scoped>\n",
       "    .dataframe tbody tr th:only-of-type {\n",
       "        vertical-align: middle;\n",
       "    }\n",
       "\n",
       "    .dataframe tbody tr th {\n",
       "        vertical-align: top;\n",
       "    }\n",
       "\n",
       "    .dataframe thead th {\n",
       "        text-align: right;\n",
       "    }\n",
       "</style>\n",
       "<table border=\"1\" class=\"dataframe\">\n",
       "  <thead>\n",
       "    <tr style=\"text-align: right;\">\n",
       "      <th></th>\n",
       "      <th>model</th>\n",
       "      <th>accuracy_mean</th>\n",
       "      <th>accuracy_std</th>\n",
       "      <th>precision_mean</th>\n",
       "      <th>precision_std</th>\n",
       "      <th>recall_mean</th>\n",
       "      <th>recall_std</th>\n",
       "      <th>f1_score_mean</th>\n",
       "      <th>f1_score_std</th>\n",
       "      <th>roc_auc_mean</th>\n",
       "      <th>roc_auc_std</th>\n",
       "      <th>feature_set</th>\n",
       "    </tr>\n",
       "  </thead>\n",
       "  <tbody>\n",
       "    <tr>\n",
       "      <th>0</th>\n",
       "      <td>LogisticRegression</td>\n",
       "      <td>0.718519</td>\n",
       "      <td>0.001156</td>\n",
       "      <td>0.647700</td>\n",
       "      <td>0.000961</td>\n",
       "      <td>0.814309</td>\n",
       "      <td>0.006120</td>\n",
       "      <td>0.721504</td>\n",
       "      <td>0.002201</td>\n",
       "      <td>0.805932</td>\n",
       "      <td>0.000674</td>\n",
       "      <td>Engineered</td>\n",
       "    </tr>\n",
       "    <tr>\n",
       "      <th>1</th>\n",
       "      <td>SVC</td>\n",
       "      <td>0.767778</td>\n",
       "      <td>0.000962</td>\n",
       "      <td>0.704940</td>\n",
       "      <td>0.002264</td>\n",
       "      <td>0.827957</td>\n",
       "      <td>0.003122</td>\n",
       "      <td>0.761506</td>\n",
       "      <td>0.000456</td>\n",
       "      <td>0.854190</td>\n",
       "      <td>0.000284</td>\n",
       "      <td>Engineered</td>\n",
       "    </tr>\n",
       "    <tr>\n",
       "      <th>2</th>\n",
       "      <td>RandomForest</td>\n",
       "      <td>0.782593</td>\n",
       "      <td>0.002740</td>\n",
       "      <td>0.730234</td>\n",
       "      <td>0.004963</td>\n",
       "      <td>0.815964</td>\n",
       "      <td>0.003988</td>\n",
       "      <td>0.770707</td>\n",
       "      <td>0.001986</td>\n",
       "      <td>0.882698</td>\n",
       "      <td>0.000422</td>\n",
       "      <td>Engineered</td>\n",
       "    </tr>\n",
       "    <tr>\n",
       "      <th>3</th>\n",
       "      <td>KNeighborsClassifier</td>\n",
       "      <td>0.766852</td>\n",
       "      <td>0.004456</td>\n",
       "      <td>0.726807</td>\n",
       "      <td>0.004434</td>\n",
       "      <td>0.767990</td>\n",
       "      <td>0.005686</td>\n",
       "      <td>0.746831</td>\n",
       "      <td>0.005009</td>\n",
       "      <td>0.859408</td>\n",
       "      <td>0.000767</td>\n",
       "      <td>Engineered</td>\n",
       "    </tr>\n",
       "  </tbody>\n",
       "</table>\n",
       "</div>"
      ],
      "text/plain": [
       "                  model  accuracy_mean  accuracy_std  precision_mean  \\\n",
       "0    LogisticRegression       0.718519      0.001156        0.647700   \n",
       "1                   SVC       0.767778      0.000962        0.704940   \n",
       "2          RandomForest       0.782593      0.002740        0.730234   \n",
       "3  KNeighborsClassifier       0.766852      0.004456        0.726807   \n",
       "\n",
       "   precision_std  recall_mean  recall_std  f1_score_mean  f1_score_std  \\\n",
       "0       0.000961     0.814309    0.006120       0.721504      0.002201   \n",
       "1       0.002264     0.827957    0.003122       0.761506      0.000456   \n",
       "2       0.004963     0.815964    0.003988       0.770707      0.001986   \n",
       "3       0.004434     0.767990    0.005686       0.746831      0.005009   \n",
       "\n",
       "   roc_auc_mean  roc_auc_std feature_set  \n",
       "0      0.805932     0.000674  Engineered  \n",
       "1      0.854190     0.000284  Engineered  \n",
       "2      0.882698     0.000422  Engineered  \n",
       "3      0.859408     0.000767  Engineered  "
      ]
     },
     "metadata": {},
     "output_type": "display_data"
    },
    {
     "name": "stdout",
     "output_type": "stream",
     "text": [
      "\n",
      "--- Results for Raw Data (Flattened) ---\n"
     ]
    },
    {
     "data": {
      "text/html": [
       "<div>\n",
       "<style scoped>\n",
       "    .dataframe tbody tr th:only-of-type {\n",
       "        vertical-align: middle;\n",
       "    }\n",
       "\n",
       "    .dataframe tbody tr th {\n",
       "        vertical-align: top;\n",
       "    }\n",
       "\n",
       "    .dataframe thead th {\n",
       "        text-align: right;\n",
       "    }\n",
       "</style>\n",
       "<table border=\"1\" class=\"dataframe\">\n",
       "  <thead>\n",
       "    <tr style=\"text-align: right;\">\n",
       "      <th></th>\n",
       "      <th>model</th>\n",
       "      <th>accuracy_mean</th>\n",
       "      <th>accuracy_std</th>\n",
       "      <th>precision_mean</th>\n",
       "      <th>precision_std</th>\n",
       "      <th>recall_mean</th>\n",
       "      <th>recall_std</th>\n",
       "      <th>f1_score_mean</th>\n",
       "      <th>f1_score_std</th>\n",
       "      <th>roc_auc_mean</th>\n",
       "      <th>roc_auc_std</th>\n",
       "      <th>feature_set</th>\n",
       "    </tr>\n",
       "  </thead>\n",
       "  <tbody>\n",
       "    <tr>\n",
       "      <th>0</th>\n",
       "      <td>LogisticRegression</td>\n",
       "      <td>0.755000</td>\n",
       "      <td>0.003113</td>\n",
       "      <td>0.684461</td>\n",
       "      <td>0.004077</td>\n",
       "      <td>0.780405</td>\n",
       "      <td>0.005852</td>\n",
       "      <td>0.729280</td>\n",
       "      <td>0.003375</td>\n",
       "      <td>0.826938</td>\n",
       "      <td>0.001330</td>\n",
       "      <td>Raw</td>\n",
       "    </tr>\n",
       "    <tr>\n",
       "      <th>1</th>\n",
       "      <td>SVC</td>\n",
       "      <td>0.715952</td>\n",
       "      <td>0.001798</td>\n",
       "      <td>0.610388</td>\n",
       "      <td>0.002223</td>\n",
       "      <td>0.907658</td>\n",
       "      <td>0.006827</td>\n",
       "      <td>0.729904</td>\n",
       "      <td>0.001675</td>\n",
       "      <td>0.839972</td>\n",
       "      <td>0.000381</td>\n",
       "      <td>Raw</td>\n",
       "    </tr>\n",
       "    <tr>\n",
       "      <th>2</th>\n",
       "      <td>RandomForest</td>\n",
       "      <td>0.793333</td>\n",
       "      <td>0.006402</td>\n",
       "      <td>0.737709</td>\n",
       "      <td>0.007634</td>\n",
       "      <td>0.793356</td>\n",
       "      <td>0.006395</td>\n",
       "      <td>0.764520</td>\n",
       "      <td>0.007012</td>\n",
       "      <td>0.883599</td>\n",
       "      <td>0.000819</td>\n",
       "      <td>Raw</td>\n",
       "    </tr>\n",
       "    <tr>\n",
       "      <th>3</th>\n",
       "      <td>KNeighborsClassifier</td>\n",
       "      <td>0.767857</td>\n",
       "      <td>0.007559</td>\n",
       "      <td>0.706312</td>\n",
       "      <td>0.007077</td>\n",
       "      <td>0.771959</td>\n",
       "      <td>0.011824</td>\n",
       "      <td>0.737675</td>\n",
       "      <td>0.009249</td>\n",
       "      <td>0.855628</td>\n",
       "      <td>0.001603</td>\n",
       "      <td>Raw</td>\n",
       "    </tr>\n",
       "  </tbody>\n",
       "</table>\n",
       "</div>"
      ],
      "text/plain": [
       "                  model  accuracy_mean  accuracy_std  precision_mean  \\\n",
       "0    LogisticRegression       0.755000      0.003113        0.684461   \n",
       "1                   SVC       0.715952      0.001798        0.610388   \n",
       "2          RandomForest       0.793333      0.006402        0.737709   \n",
       "3  KNeighborsClassifier       0.767857      0.007559        0.706312   \n",
       "\n",
       "   precision_std  recall_mean  recall_std  f1_score_mean  f1_score_std  \\\n",
       "0       0.004077     0.780405    0.005852       0.729280      0.003375   \n",
       "1       0.002223     0.907658    0.006827       0.729904      0.001675   \n",
       "2       0.007634     0.793356    0.006395       0.764520      0.007012   \n",
       "3       0.007077     0.771959    0.011824       0.737675      0.009249   \n",
       "\n",
       "   roc_auc_mean  roc_auc_std feature_set  \n",
       "0      0.826938     0.001330         Raw  \n",
       "1      0.839972     0.000381         Raw  \n",
       "2      0.883599     0.000819         Raw  \n",
       "3      0.855628     0.001603         Raw  "
      ]
     },
     "metadata": {},
     "output_type": "display_data"
    }
   ],
   "source": [
    "\n",
    "print(\"--- Results for Engineered Features ---\")\n",
    "display(results_eng)\n",
    "\n",
    "print(\"\\n--- Results for Raw Data (Flattened) ---\")\n",
    "display(results_raw)"
   ]
  },
  {
   "cell_type": "markdown",
   "metadata": {},
   "source": [
    "Warum diese Modelle:\n",
    "\n",
    "\n",
    "    Logistic Regression: Dient als lineare Baseline, damit prüfen wir, ob sich die Schweißqualität simpel etwa über die durchschnittliche Spannung – vorhersagen lässt. So sehen wir schnell, ob schon eine einfache Beziehung eine brauchbare Einschätzung \n",
    "\n",
    "    SVC (Support Vector Classifier): Ideal, um nicht-lineare Muster in den Schweißdaten zu erkennen. Die Qualität hängt oft von komplexen Wechselwirkungen , die keine einfache Gerade bilden. \n",
    "\n",
    "    Random Forest: ideal für die komplexen Schweißdaten ist. Da es für jeden Baum eine zufällige Auswahl der Features (z.B. einige nur mit Spannungs-Features, andere mit Strom-Features) verwende. Es verlässt sich nicht auf ein einziges Merkmal, sondern lernt aus vielen verschiedenen Perspektiven der Schweißdaten.\n",
    "\n",
    "    K-Nearest Neighbors (KNN): Testet die Hypothese, dass sich gute Schweißnähte in ihren Messwerten ähneln.KNN prüft, ob die Datenpunkte für gute und schlechte Nähte im Merkmalsraum klar voneinander getrennte Gruppen bilden"
   ]
  },
  {
   "cell_type": "markdown",
   "metadata": {},
   "source": [
    "Warum die Metriken :\n",
    "\n",
    "    Recall : Die Sicherheitsmetrik. Jede schlechte Schweißnaht, die als \"gut\" durchgeht (ein False Negative), ist ein enormes Risiko für die Produktstabilität und kann zu teuren Rückrufen oder Unfällen führen.\n",
    "\n",
    "    Precision (Präzision): Die Effizienzmetrik. Jede gute Schweißnaht, die fälschlicherweise als \"schlecht\" markiert wird (ein False Positive), verursacht unnötige Kosten \n",
    "\n",
    "    F1-Score: Kompromiss für die Erkennung der schlechten Schweißnähte. Ein Modell, das nur einen hohen Recall hat, würde vielleicht jede zweite Naht als fehlerhaft markieren (niedrige Precision), was die Produktion beschädigt , Der F1-Score stellt sicher, dass das Modell sowohl präzise als auch gründlich ist.\n",
    "\n"
   ]
  },
  {
   "cell_type": "code",
   "execution_count": null,
   "metadata": {
    "trusted": true
   },
   "outputs": [],
   "source": []
  },
  {
   "cell_type": "code",
   "execution_count": null,
   "metadata": {
    "trusted": true
   },
   "outputs": [],
   "source": []
  },
  {
   "cell_type": "code",
   "execution_count": null,
   "metadata": {
    "trusted": true
   },
   "outputs": [],
   "source": []
  },
  {
   "cell_type": "code",
   "execution_count": null,
   "metadata": {
    "trusted": true
   },
   "outputs": [],
   "source": []
  },
  {
   "cell_type": "code",
   "execution_count": null,
   "metadata": {
    "trusted": true
   },
   "outputs": [],
   "source": []
  },
  {
   "cell_type": "code",
   "execution_count": null,
   "metadata": {
    "trusted": true
   },
   "outputs": [],
   "source": []
  },
  {
   "cell_type": "code",
   "execution_count": null,
   "metadata": {
    "trusted": true
   },
   "outputs": [],
   "source": []
  }
 ],
 "metadata": {
  "accelerator": "GPU",
  "colab": {
   "gpuType": "T4",
   "provenance": []
  },
  "kaggle": {
   "accelerator": "nvidiaTeslaT4",
   "dataSources": [
    {
     "datasetId": 7806808,
     "sourceId": 12380969,
     "sourceType": "datasetVersion"
    },
    {
     "datasetId": 7806885,
     "sourceId": 12381079,
     "sourceType": "datasetVersion"
    },
    {
     "datasetId": 7806912,
     "sourceId": 12381124,
     "sourceType": "datasetVersion"
    }
   ],
   "dockerImageVersionId": 31041,
   "isGpuEnabled": true,
   "isInternetEnabled": true,
   "language": "python",
   "sourceType": "notebook"
  },
  "kernelspec": {
   "display_name": "Python 3",
   "language": "python",
   "name": "python3"
  },
  "language_info": {
   "codemirror_mode": {
    "name": "ipython",
    "version": 3
   },
   "file_extension": ".py",
   "mimetype": "text/x-python",
   "name": "python",
   "nbconvert_exporter": "python",
   "pygments_lexer": "ipython3",
   "version": "3.11.11"
  }
 },
 "nbformat": 4,
 "nbformat_minor": 4
}
